{
  "nbformat": 4,
  "nbformat_minor": 0,
  "metadata": {
    "colab": {
      "provenance": []
    },
    "kernelspec": {
      "name": "python3",
      "display_name": "Python 3"
    },
    "language_info": {
      "name": "python"
    }
  },
  "cells": [
    {
      "cell_type": "markdown",
      "source": [
        "Qn 1-  What is a random variable in probability theory?\n",
        "\n",
        "Ans- In probability theory, a random variable is a function that assigns a numerical value to each outcome in a sample space of a random experiment. It provides a way to quantify uncertainty and randomness.\n",
        "\n"
      ],
      "metadata": {
        "id": "HUY1RFp6eZM7"
      }
    },
    {
      "cell_type": "markdown",
      "source": [
        "Qn 2- What are the types of random variables?\n",
        "\n",
        "Ans- There are two main types of random variables in probability theory:\n",
        "\n",
        "1. Discrete Random Variable\n",
        "\n",
        "Takes on a finite or countably infinite set of values.\n",
        "\n",
        "Common examples include the number of heads in a coin toss, the number of customers in a queue, or the result of rolling a die.\n",
        "\n",
        "It is described by a probability mass function (PMF), which gives the probability of each possible value.\n",
        "\n",
        "2. Continuous Random Variable\n",
        "\n",
        "Takes on an uncountable number of values within an interval.\n",
        "\n",
        "Examples include the height of a person, the time it takes to complete a task, or the temperature in a city.\n",
        "\n",
        "It is described by a probability density function (PDF), which defines the likelihood of different value ranges.m"
      ],
      "metadata": {
        "id": "uzY9FI8sgKIX"
      }
    },
    {
      "cell_type": "markdown",
      "source": [
        "Qn 3- What is the difference between discrete and continuous distributions?\n",
        "\n",
        "Ans-\n",
        "* Discrete distributions apply to scenarios where outcomes are countable.\n",
        "\n",
        "* Continuous distributions apply to scenarios involving measurements and infinite precision.\n",
        "\n",
        "\n"
      ],
      "metadata": {
        "id": "YxiHu1dAkhkz"
      }
    },
    {
      "cell_type": "markdown",
      "source": [
        "Qn 4-  What are probability distribution functions (PDF)?\n",
        "\n",
        "\n",
        "Ans-\n",
        "\n",
        "In probability theory, Probability Distribution Functions (PDFs) describe how probabilities are distributed over values of a random variable. There are two main types:\n",
        "\n",
        "1. Probability Mass Function (PMF) – For discrete random variables.\n",
        "\n",
        "\n",
        "2. Probability Density Function (PDF) – For continuous random variables.\n",
        "\n",
        "\n"
      ],
      "metadata": {
        "id": "QhEXz6SvoCrH"
      }
    },
    {
      "cell_type": "markdown",
      "source": [
        "Qn 5- How do cumulative distribution functions (CDF) differ from probability distribution functions (PDF)?\n",
        "\n",
        "\n",
        "Ans- PMF/PDF gives probability at a specific value (or density for continuous cases).\n",
        "\n",
        "CDF gives cumulative probability up to a value.\n",
        "\n",
        "CDF is derived by summing the PMF (discrete) or integrating the PDF (continuous).\n",
        "\n",
        "\n",
        "\n",
        "\n"
      ],
      "metadata": {
        "id": "TXOSQ-N4thEx"
      }
    },
    {
      "cell_type": "markdown",
      "source": [
        "Qn 6- What is a discrete uniform distribution?\n",
        "\n",
        "Ans-\n",
        "\n",
        "Discrete Uniform  -\n",
        "\n",
        "A discrete uniform distribution is a probability distribution in which a finite number of values are equally likely to occur. Each outcome has the same probability.\n",
        "\n"
      ],
      "metadata": {
        "id": "SDTKYW9mvUuf"
      }
    },
    {
      "cell_type": "markdown",
      "source": [
        "Qn 7- What are the key properties of a Bernoulli distribution?\n",
        "\n",
        "Ans- The Bernoulli distribution is a simple discrete probability distribution that models an experiment with two possible outcomes:\n",
        "\n",
        "Success (1) with probability\n",
        "𝑝\n",
        "\n",
        "Failure (0) with probability\n",
        "1−p\n",
        "\n",
        "s"
      ],
      "metadata": {
        "id": "zbrBcCzzzknJ"
      }
    },
    {
      "cell_type": "markdown",
      "source": [
        "Qn 8- What is the binomial distribution, and how is it used in probability?\n",
        "\n",
        "Ans- Binomial Distribution in Probability\n",
        "The binomial distribution is a discrete probability distribution that models the number of successes in a fixed number of independent Bernoulli trials, where each trial has two possible outcomes: success (1) or failure (0).\n",
        "\n",
        "* uses in probability -\n",
        "\n",
        "Quality control: Probability of finding defective items in a batch.\n",
        "\n",
        "Medical trials: Success rate of a new treatment.\n",
        "\n",
        "Marketing: Number of customers making a purchase from a sample.\n",
        "\n",
        "Sports: Probability of scoring a certain number of goals in a game."
      ],
      "metadata": {
        "id": "1BQCbzlDhlEQ"
      }
    },
    {
      "cell_type": "markdown",
      "source": [
        "Qn 9- What is the Poisson distribution and where is it applied?\n",
        "\n",
        "Ans-\n",
        "\n",
        "* Poisson Distribution -\n",
        "The Poisson distribution is a discrete probability distribution that models the number of events occurring in a fixed interval of time or space, given that the events happen independently and at a constant average rate\n",
        "𝜆.\n",
        "\n",
        "* Applications-\n",
        "\n",
        "Business & Customer Service:\n",
        "\n",
        "Healthcare & Biology:\n",
        "\n",
        "Traffic & Logistics:\n",
        "\n",
        "Manufacturing & Defect Analysis:\n"
      ],
      "metadata": {
        "id": "O-5OtZZhjwuB"
      }
    },
    {
      "cell_type": "markdown",
      "source": [
        "Qn 10- What is a continuous uniform distribution?\n",
        "\n",
        "\n",
        "Ans- Continuous Uniform Distribution\n",
        "A continuous uniform distribution is a probability distribution where all values within a given interval are equally likely to occur. It is defined by two parameters:\n",
        "\n",
        "𝑎\n",
        " (lower bound)\n",
        "\n",
        "𝑏\n",
        " (upper bound)\n",
        "\n"
      ],
      "metadata": {
        "id": "dCPjoFKRluap"
      }
    },
    {
      "cell_type": "markdown",
      "source": [
        "Qn 11- What are the characteristics of a normal distribution?\n",
        "\n",
        "Ans- The normal distribution (also called the Gaussian distribution) is a continuous probability distribution that is symmetric and bell-shaped. It is one of the most important distributions in probability and statistics.\n",
        "\n",
        "1. Probability Density Function (PDF)\n",
        "\n",
        "\n",
        "2. Cumulative Distribution Function (CDF)\n",
        "\n",
        "3. Standard Normal Distribution\n",
        "\n"
      ],
      "metadata": {
        "id": "hyUn65DZolLz"
      }
    },
    {
      "cell_type": "markdown",
      "source": [
        "Qn 12-  What is the standard normal distribution, and why is it important?\n",
        "\n",
        "Ans- Standard Normal Distribution and Its Importance\n",
        "The standard normal distribution is a special case of the normal distribution where:\n",
        "\n",
        "The mean\n",
        "\n",
        "μ=0\n",
        "\n",
        "The standard deviation\n",
        "\n",
        "σ=1\n",
        "\n",
        "\n",
        "* Importance of the Standard Normal Distribution\n",
        "\n",
        "Simplifies Probability Calculations: Instead of using different normal tables, all normal distributions can be converted into a single Z-table.\n",
        "\n",
        "Helps Compare Different Normal Distributions: Standardizing allows comparisons between different normal datasets.\n",
        "\n",
        "Used in Hypothesis Testing: Common in Z-tests, confidence intervals, and statistical inference.\n",
        "\n",
        "Supports the Central Limit Theorem (CLT): The CLT states that sums or averages of large samples tend to follow a normal distribution, which is often approximated using the standard normal.\n",
        "\n"
      ],
      "metadata": {
        "id": "EEJYV8cLwnVc"
      }
    },
    {
      "cell_type": "markdown",
      "source": [
        "Qn 13- What is the Central Limit Theorem (CLT), and why is it critical in statistics?\n",
        "\n",
        "Ans- Central Limit Theorem (CLT) and Its Importance\n",
        "The Central Limit Theorem (CLT) is one of the most fundamental concepts in statistics. It states that:\n",
        "\n",
        "Regardless of the original population distribution, the sampling distribution of the sample mean will approximate a normal distribution as the sample size increases, provided the samples are independent and identically distributed (i.i.d.).\n",
        "\n",
        "The CLT is critical in statistics for several reasons:\n",
        "\n",
        "1. Enables Normal Approximation for Any Population\n",
        "Even if the original population is skewed, uniform, or any other shape, the sampling distribution of the mean will be approximately normal if\n",
        "n is large enough (usually\n",
        "\n",
        "\n",
        "This allows us to use normal probability models for inference, even when dealing with non-normal populations.\n",
        "\n",
        "2. Foundation for Hypothesis Testing & Confidence Intervals\n",
        "Many statistical tests (e.g., Z-tests, t-tests, ANOVA) rely on the assumption of normality.\n",
        "\n",
        "The CLT justifies the use of normal-based methods in real-world data analysis.\n",
        "\n",
        "3. Supports Estimation of Population Parameters\n",
        "The CLT allows us to estimate population means using sample means with confidence intervals.\n",
        "\n"
      ],
      "metadata": {
        "id": "XwYHdSK6x9bg"
      }
    },
    {
      "cell_type": "markdown",
      "source": [
        "Qn 14- How does the Central Limit Theorem relate to the normal distribution?\n",
        "\n",
        "Ans- The Central Limit Theorem (CLT) is directly connected to the normal distribution because it explains why the normal distribution appears so frequently in statistics.\n",
        "\n"
      ],
      "metadata": {
        "id": "lRgTGRti0rNX"
      }
    },
    {
      "cell_type": "markdown",
      "source": [
        "Qn 15- What is the application of Z statistics in hypothesis testing?\n",
        "\n",
        "Ans- Application of Z-Statistics in Hypothesis Testing\n",
        "Z-statistics (or Z-tests) are used in hypothesis testing when we want to determine whether a sample mean significantly differs from a known population mean. It is particularly useful when:\n",
        "\n",
        "The population follows a normal distribution.\n",
        "\n",
        "The population standard deviation (\n",
        "σ) is known.\n",
        "\n",
        "The sample size is large (\n",
        "n≥30), even if the population is not normally distributed (by the Central Limit Theorem).\n",
        "\n"
      ],
      "metadata": {
        "id": "grIk1yXc2tp9"
      }
    },
    {
      "cell_type": "markdown",
      "source": [
        "Qn 16- How do you calculate a Z-score, and what does it represent?\n",
        "\n",
        "\n",
        "Ans-\n",
        "\n",
        " Definition of a Z-Score\n",
        "A Z-score (or standard score) measures how many standard deviations a data point is from the mean of a distribution. It helps compare values from different distributions and determine probabilities using the standard normal distribution.\n"
      ],
      "metadata": {
        "id": "TnskwH_B4AeA"
      }
    },
    {
      "cell_type": "markdown",
      "source": [
        "Qn 17- What are point estimates and interval estimates in statistics?\n",
        "\n",
        "\n",
        "Ans- In statistical estimation, we use sample data to estimate population parameters. There are two main types of estimates:\n",
        "\n",
        "Point Estimate – A single value used to estimate a population parameter.\n",
        "\n",
        "Interval Estimate – A range of values that likely contains the population parameter.\n",
        "\n"
      ],
      "metadata": {
        "id": "YZ6JQBZG5f7S"
      }
    },
    {
      "cell_type": "markdown",
      "source": [
        "Qn 18- What is the significance of confidence intervals in statistical analysis?\n",
        "\n",
        "Ans- Significance of Confidence Intervals in Statistical Analysis\n",
        "A confidence interval (CI) is a fundamental concept in statistics that provides a range of values within which a population parameter (like the mean or proportion) is likely to fall, with a certain level of confidence."
      ],
      "metadata": {
        "id": "Ta7RcjmXrZLb"
      }
    },
    {
      "cell_type": "markdown",
      "source": [
        "Qn 19- What is the relationship between a Z-score and a confidence interval?\n",
        "\n",
        "Ans-\n",
        "\n",
        "* The Z-score (also called the critical value) represents the number of standard deviations from the mean needed to capture a specific percentage of the normal distribution.\n",
        "\n",
        "* Confidence Interval Formula Using Z-Score\n",
        "For a population mean (with known standard deviation):\n",
        "\n"
      ],
      "metadata": {
        "id": "W8x52DNUrZIz"
      }
    },
    {
      "cell_type": "markdown",
      "source": [
        "Qn 20- How are Z-scores used to compare different distributions?\n",
        "\n",
        "ans-  How Are Z-Scores Used to Compare Different Distributions?\n",
        "Z-scores are a powerful tool for comparing values from different distributions — especially when the units, scales, or variability differ.\n",
        "\n",
        "A Z-score tells us how many standard deviations a data point is from the mean of its distribution.\n",
        "\n",
        "Z-scores standardize values, making them unitless and comparable, even if the original data come from:\n",
        "\n"
      ],
      "metadata": {
        "id": "LPAYF5yKt7Jz"
      }
    }
  ]
}